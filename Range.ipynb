{
 "cells": [
  {
   "cell_type": "code",
   "execution_count": 3,
   "metadata": {
    "collapsed": true,
    "nbpresent": {
     "id": "9b04054c-ba2f-4fb1-ad2f-4f29ce5dadb9"
    }
   },
   "outputs": [],
   "source": [
    "import numpy as np\n",
    "from math import sqrt, cos, sin, asin, acos, tan, atan, degrees, fabs, pow,radians"
   ]
  },
  {
   "cell_type": "code",
   "execution_count": 4,
   "metadata": {
    "nbpresent": {
     "id": "bb3e7973-59eb-4f6c-94bf-bc3fe7957f1d"
    }
   },
   "outputs": [
    {
     "name": "stdout",
     "output_type": "stream",
     "text": [
      "Введие время основного сигнала на р0 (мкс): 3879\n",
      "Введие время сигнала от поверхности на р0 (мкс): 6926\n",
      "Введие время основного сигнала на р1 (мкс): 3297\n",
      "Введие время сигнала от поверхности на р1 (мкс): 6785\n",
      "Введие время основного сигнала на р2 (мкс): 3879\n",
      "Введие время сигнала от поверхности на р2 (мкс): 6811\n",
      "Введие время основного сигнала на р3 (мкс): 3914\n",
      "Введие время сигнала от поверхности на р3 (мкс): 6335\n"
     ]
    },
    {
     "data": {
      "text/plain": [
       "'\\n3879\\n6926\\n3297\\n6785\\n3879\\n6811\\n3914\\n6335\\n'"
      ]
     },
     "execution_count": 4,
     "metadata": {},
     "output_type": "execute_result"
    }
   ],
   "source": [
    "# Ввод времени каждого из сигналов в микросекундах\n",
    "try:\n",
    "    p0=float(input('Введие время основного сигнала на р0 (мкс): '))\n",
    "    p0_otr=float(input('Введие время сигнала от поверхности на р0 (мкс): '))\n",
    "    p1=float(input('Введие время основного сигнала на р1 (мкс): '))\n",
    "    p1_otr=float(input('Введие время сигнала от поверхности на р1 (мкс): '))\n",
    "    p2=float(input('Введие время основного сигнала на р2 (мкс): '))\n",
    "    p2_otr=float(input('Введие время сигнала от поверхности на р2 (мкс): '))\n",
    "    \n",
    "    p3=float(input('Введие время основного сигнала на р3 (мкс): '))\n",
    "    p3_otr=float(input('Введие время сигнала от поверхности на р3 (мкс): '))\n",
    "except ValueError:\n",
    "    print('Какие-то данные не введены, могут возникнуть проблемы в дальнейших расчётах')\n",
    "    \n",
    "'''\n",
    "3879\n",
    "6926\n",
    "3297\n",
    "6785\n",
    "3879\n",
    "6811\n",
    "3914\n",
    "6335\n",
    "'''"
   ]
  },
  {
   "cell_type": "code",
   "execution_count": 5,
   "metadata": {
    "nbpresent": {
     "id": "36f531b6-3e4c-4fed-9019-078dd2b7065c"
    }
   },
   "outputs": [
    {
     "name": "stdout",
     "output_type": "stream",
     "text": [
      "0.0038789999999999996\n",
      "0.003297\n",
      "0.0038789999999999996\n",
      "0.003914\n"
     ]
    }
   ],
   "source": [
    "# Перевод времени сигналов в секунды\n",
    "p0*=0.000001\n",
    "p0_otr*=0.000001\n",
    "p1*=0.000001\n",
    "p1_otr*=0.000001\n",
    "p2*=0.000001\n",
    "p2_otr*=0.000001\n",
    "p3*=0.000001\n",
    "p3_otr*=0.000001\n",
    "print(p0)\n",
    "print(p1)\n",
    "print(p2)\n",
    "print(p3)"
   ]
  },
  {
   "cell_type": "code",
   "execution_count": null,
   "metadata": {
    "collapsed": true,
    "nbpresent": {
     "id": "778dbd2b-b804-4da5-be40-e9903ba3b483"
    }
   },
   "outputs": [],
   "source": []
  },
  {
   "cell_type": "code",
   "execution_count": 6,
   "metadata": {
    "nbpresent": {
     "id": "fc6206c6-2ad5-4498-b0c4-e694356559fe"
    }
   },
   "outputs": [],
   "source": [
    "# Константы\n",
    "\n",
    "c = 1450   # Скорость звука для воды в 20 градусов\n",
    "H = 3.0    # Глубина акватории\n",
    "h = 0.82   # Высота пирамидки\n",
    "h_d = 1.02 # Высота пирамидки до дна\n",
    "\n",
    "p0_p1 = p0_p2 = p1_p2 = 0.96"
   ]
  },
  {
   "cell_type": "code",
   "execution_count": 7,
   "metadata": {
    "nbpresent": {
     "id": "58129968-89b1-42df-b743-62299092999f"
    }
   },
   "outputs": [],
   "source": [
    "# Расстояния по задержкам\n",
    "r0_r0_otr = (p0_otr-p0)*c\n",
    "r1_r1_otr = (p1_otr-p1)*c\n",
    "r2_r2_otr = (p2_otr-p2)*c\n",
    "\n",
    "r0_1 = (p0-p1)*c\n",
    "r1_0 = (p1-p0)*c\n",
    "r0_2 = (p0-p2)*c\n",
    "r2_0 = (p2-p0)*c\n",
    "r0_3 = (p0-p3)*c\n",
    "r3_0 = (p3-p0)*c\n",
    "r1_2 = (p1-p2)*c\n",
    "r2_1 = (p2-p1)*c\n",
    "r1_3 = (p1-p3)*c\n",
    "r3_1 = (p3-p1)*c\n",
    "r2_3 = (p2-p3)*c\n",
    "r3_2 = (p3-p2)*c"
   ]
  },
  {
   "cell_type": "code",
   "execution_count": 8,
   "metadata": {
    "nbpresent": {
     "id": "39c329ab-7420-4ce7-83b6-4c438a539c3a"
    }
   },
   "outputs": [],
   "source": [
    "# Определяем направление\n",
    "\n",
    "def wherever ():\n",
    "    p0_p1 = 0.96\n",
    "\n",
    "    if p0<=p1 and p0<=p2:\n",
    "        \n",
    "        alpha = degrees(asin(r2_0/p0_p1))\n",
    "        beta = degrees(asin(r1_0/p0_p1))\n",
    "        \n",
    "        \n",
    "        if alpha>=beta:\n",
    "            print ('фронт проходит через гидрофон p0, пеленг в {} градусов отностильено ребра p0_p2'.format(beta))\n",
    "\n",
    "        if alpha<beta:\n",
    "            print ('фронт проходит через гидрофон p0, пеленг в {} градусов отностильено ребра p0_p1'.format(alpha) )\n",
    "            \n",
    "        rast = (4*H**2 - r0_r0_otr**2)/(2*r0_r0_otr)\n",
    "        \n",
    "        return alpha, beta, rast\n",
    "\n",
    "    elif p1<p0 and p1<p2:\n",
    "        \n",
    "        alpha = degrees(asin(r0_1/p0_p1))\n",
    "        beta = degrees(asin(r2_1/p0_p1))\n",
    "        \n",
    "\n",
    "        if alpha>=beta:\n",
    "            print ('фронт проходит через гидрофон p1, пеленг в {} градусов отностильено ребра p1_p0'.format(beta))\n",
    "\n",
    "        if alpha<beta:\n",
    "            print ('фронт проходит через гидрофон p1, пеленг в {} градусов отностильено ребра p1_p2'.format(alpha) )\n",
    "            \n",
    "        rast = (4*H**2 - r1_r1_otr**2)/(2*r1_r1_otr)\n",
    "        \n",
    "        return alpha, beta, rast\n",
    "    \n",
    "    elif p2<p0 and p2<p1:\n",
    "        \n",
    "        alpha=degrees(asin(r1_2/p0_p1))\n",
    "        beta=degrees(asin(r0_2/p0_p1))\n",
    "        \n",
    "\n",
    "        if alpha>=beta:\n",
    "            print ('фронт проходит через гидрофон p2, пеленг в {} градусов отностильено ребра p2_p0'.format(beta))\n",
    "\n",
    "        if alpha<beta:\n",
    "            print ('фронт проходит через гидрофон p2, пеленг в {} градусов отностильено ребра p2_p1'.format(alpha) )\n",
    "        \n",
    "        rast = (4*H**2 - r2_r2_otr**2)/(2*r2_r2_otr)\n",
    "        \n",
    "        return alpha, beta, rast\n",
    "        \n",
    "    else:\n",
    "        print('Incorrect')\n",
    "        \n",
    "    #return alpha, beta"
   ]
  },
  {
   "cell_type": "code",
   "execution_count": 9,
   "metadata": {
    "nbpresent": {
     "id": "e5ba269f-ebb8-47e2-97e3-172445bdcb1b"
    }
   },
   "outputs": [
    {
     "name": "stdout",
     "output_type": "stream",
     "text": [
      "фронт проходит через гидрофон p1, пеленг в 61.52947933752495 градусов отностильено ребра p1_p0\n",
      "Уголь альфа = 61.52947933752495, угол бета = 61.52947933752495\n"
     ]
    }
   ],
   "source": [
    "alpha, beta, rast = wherever()\n",
    "\n",
    "print ('Уголь альфа = {}, угол бета = {}'.format(alpha,beta))"
   ]
  },
  {
   "cell_type": "code",
   "execution_count": 10,
   "metadata": {
    "nbpresent": {
     "id": "3d68e0df-04e3-41be-b225-c44d86bd264d"
    }
   },
   "outputs": [],
   "source": [
    "# Определяем вертикальный фронт\n",
    "o_r = sqrt(pow(r3_1,2)-pow(h,2)) # Расстояние до плоского фронта от центра пирамиды у дна\n",
    "def vert_peleng():\n",
    "    \n",
    "    if p0<=p1 and p0<=p2:\n",
    "        r0_3 = (p0_otr-p3_otr)*c # задержка в получении сигнала от поверхности между верхним гидрофоном и нижним\n",
    "        p3_o2 = h - r0_3 # расстояние от верхнего гидрофона до начала временной задержки\n",
    "        vert_front = degrees(atan(p3_o2/o_r))\n",
    "        print('Угол фронта, относительно дна, равен {} градусам'.format(vert_front))\n",
    "        return vert_front\n",
    "        \n",
    "    elif p1<p0 and p1<p2:\n",
    "        r1_3 = (p1_otr-p3_otr)*c # задержка в получении сигнала от поверхности между верхним гидрофоном и нижним\n",
    "        p3_o2 = h - r1_3 # расстояние от верхнего гидрофона до начала временной задержки\n",
    "        vert_front = degrees(atan(p3_o2/o_r))\n",
    "        print('Угол фронта, относительно дна, равен {} градусам'.format(vert_front))\n",
    "        return vert_front\n",
    "        \n",
    "    elif p2<p0 and p2<p1:\n",
    "        r2_3 = (p2_otr-p3_otr)*c # задержка в получении сигнала от поверхности между верхним гидрофоном и нижним\n",
    "        p3_o2 = h - r2_3 # расстояние от верхнего гидрофона до начала временной задержки\n",
    "        vert_front = degrees(atan(p3_o2/o_r))\n",
    "        print('Угол фронта, относительно дна, равен {} градусам'.format(vert_front))\n",
    "        return vert_front  "
   ]
  },
  {
   "cell_type": "code",
   "execution_count": 11,
   "metadata": {
    "nbpresent": {
     "id": "470bf4de-ae94-4de2-82f8-a6549fbd3be9"
    }
   },
   "outputs": [
    {
     "name": "stdout",
     "output_type": "stream",
     "text": [
      "Угол фронта, относительно дна, равен 25.088018528743444 градусам\n",
      "64.91198147125655 2.135934037492611\n"
     ]
    }
   ],
   "source": [
    "front=vert_peleng()\n",
    "peleng=90-front\n",
    "\n",
    "tangen=tan(radians(peleng))\n",
    "print(peleng,tangen)"
   ]
  },
  {
   "cell_type": "code",
   "execution_count": 12,
   "metadata": {
    "nbpresent": {
     "id": "f02bf19c-5ad6-4969-92b8-0b6cb0d97d3c"
    }
   },
   "outputs": [],
   "source": [
    "def rastoyanie():\n",
    "    \n",
    "    # Расстояние до источника по отражению от поверхности\n",
    "    \n",
    "    rast_pov = (2*H)/(tangen)-o_r-h_d/(tangen)\n",
    "    \n",
    "    print('Расстояние до источника по сигналу, пришешему с поверхности, {} м'.format(rast_pov))\n",
    "    return rast_pov\n",
    "    "
   ]
  },
  {
   "cell_type": "code",
   "execution_count": 13,
   "metadata": {
    "nbpresent": {
     "id": "ee37eb52-647b-4f81-a421-2c5758688d4c"
    }
   },
   "outputs": [
    {
     "name": "stdout",
     "output_type": "stream",
     "text": [
      "Расстояние до источника по сигналу, пришешему с поверхности, 1.9737637236925065 м\n",
      "Расстояние до источника на прямую равно 1.0302003163555846 м\n"
     ]
    }
   ],
   "source": [
    "rast_pov=rastoyanie()\n",
    "\n",
    "# Расстояние до источника по дну\n",
    "\n",
    "print('Расстояние до источника на прямую равно {} м'.format(rast))\n"
   ]
  },
  {
   "cell_type": "code",
   "execution_count": null,
   "metadata": {
    "collapsed": true,
    "nbpresent": {
     "id": "25f2da18-11e8-45f7-9bf6-fb878a4581ca"
    }
   },
   "outputs": [],
   "source": []
  }
 ],
 "metadata": {
  "anaconda-cloud": {},
  "kernelspec": {
   "display_name": "Python 3",
   "language": "python",
   "name": "python3"
  },
  "language_info": {
   "codemirror_mode": {
    "name": "ipython",
    "version": 3
   },
   "file_extension": ".py",
   "mimetype": "text/x-python",
   "name": "python",
   "nbconvert_exporter": "python",
   "pygments_lexer": "ipython3",
   "version": "3.6.2"
  },
  "nbpresent": {
   "slides": {
    "0376951d-ab66-46ac-a565-00ab96861fc7": {
     "id": "0376951d-ab66-46ac-a565-00ab96861fc7",
     "prev": "156008f2-edee-489c-b612-b2387ce07b3a",
     "regions": {
      "5651d883-198f-4a3a-97e3-c9f58d8ebcf8": {
       "attrs": {
        "height": 0.8,
        "width": 0.8,
        "x": 0.1,
        "y": 0.1
       },
       "content": {
        "cell": "f02bf19c-5ad6-4969-92b8-0b6cb0d97d3c",
        "part": "whole"
       },
       "id": "5651d883-198f-4a3a-97e3-c9f58d8ebcf8"
      }
     }
    },
    "156008f2-edee-489c-b612-b2387ce07b3a": {
     "id": "156008f2-edee-489c-b612-b2387ce07b3a",
     "prev": "79dc42c7-8e70-4377-abe8-787e776bf2ad",
     "regions": {
      "a30b43a5-153a-44e1-a2cd-8ec264e72594": {
       "attrs": {
        "height": 0.8,
        "width": 0.8,
        "x": 0.1,
        "y": 0.1
       },
       "content": {
        "cell": "470bf4de-ae94-4de2-82f8-a6549fbd3be9",
        "part": "whole"
       },
       "id": "a30b43a5-153a-44e1-a2cd-8ec264e72594"
      }
     }
    },
    "24d4027c-ff3b-424a-900a-efe4832e147b": {
     "id": "24d4027c-ff3b-424a-900a-efe4832e147b",
     "prev": null,
     "regions": {
      "eefa9811-d61d-4d62-a1f2-851b1e938af7": {
       "attrs": {
        "height": 0.8,
        "width": 0.8,
        "x": 0.1,
        "y": 0.1
       },
       "content": {
        "cell": "9b04054c-ba2f-4fb1-ad2f-4f29ce5dadb9",
        "part": "whole"
       },
       "id": "eefa9811-d61d-4d62-a1f2-851b1e938af7"
      }
     }
    },
    "260e9dfe-72d2-481f-b1c9-b04940f3a5e8": {
     "id": "260e9dfe-72d2-481f-b1c9-b04940f3a5e8",
     "prev": "db22df38-2e96-4d51-8e5c-7c7c6cb4f50e",
     "regions": {
      "4bf308a0-3932-43b9-9096-699145c7b862": {
       "attrs": {
        "height": 0.8,
        "width": 0.8,
        "x": 0.1,
        "y": 0.1
       },
       "content": {
        "cell": "778dbd2b-b804-4da5-be40-e9903ba3b483",
        "part": "whole"
       },
       "id": "4bf308a0-3932-43b9-9096-699145c7b862"
      }
     }
    },
    "494f748d-2743-4c24-b204-679fefaca659": {
     "id": "494f748d-2743-4c24-b204-679fefaca659",
     "prev": "c253b7a5-77a7-4cfd-beb7-21996c75e468",
     "regions": {
      "1a963dc2-e06e-4163-88ff-c37d3202f30c": {
       "attrs": {
        "height": 0.8,
        "width": 0.8,
        "x": 0.1,
        "y": 0.1
       },
       "content": {
        "cell": "e5ba269f-ebb8-47e2-97e3-172445bdcb1b",
        "part": "whole"
       },
       "id": "1a963dc2-e06e-4163-88ff-c37d3202f30c"
      }
     }
    },
    "5308911f-82c7-4dc8-a2ae-bb1f4e752c78": {
     "id": "5308911f-82c7-4dc8-a2ae-bb1f4e752c78",
     "prev": "0376951d-ab66-46ac-a565-00ab96861fc7",
     "regions": {
      "e5c7ab21-02e9-436c-b939-a86ceb622831": {
       "attrs": {
        "height": 0.8,
        "width": 0.8,
        "x": 0.1,
        "y": 0.1
       },
       "content": {
        "cell": "ee37eb52-647b-4f81-a421-2c5758688d4c",
        "part": "whole"
       },
       "id": "e5c7ab21-02e9-436c-b939-a86ceb622831"
      }
     }
    },
    "79dc42c7-8e70-4377-abe8-787e776bf2ad": {
     "id": "79dc42c7-8e70-4377-abe8-787e776bf2ad",
     "prev": "494f748d-2743-4c24-b204-679fefaca659",
     "regions": {
      "13d65ca9-f6d7-4b20-84a3-f0a99c559f7c": {
       "attrs": {
        "height": 0.8,
        "width": 0.8,
        "x": 0.1,
        "y": 0.1
       },
       "content": {
        "cell": "3d68e0df-04e3-41be-b225-c44d86bd264d",
        "part": "whole"
       },
       "id": "13d65ca9-f6d7-4b20-84a3-f0a99c559f7c"
      }
     }
    },
    "a073c261-386f-4911-a873-73a87a7f3f49": {
     "id": "a073c261-386f-4911-a873-73a87a7f3f49",
     "prev": "5308911f-82c7-4dc8-a2ae-bb1f4e752c78",
     "regions": {
      "fdd1542f-0b14-4624-9f3f-10a003ec8797": {
       "attrs": {
        "height": 0.8,
        "width": 0.8,
        "x": 0.1,
        "y": 0.1
       },
       "content": {
        "cell": "25f2da18-11e8-45f7-9bf6-fb878a4581ca",
        "part": "whole"
       },
       "id": "fdd1542f-0b14-4624-9f3f-10a003ec8797"
      }
     }
    },
    "a6bac658-159d-40ca-8e34-3caa37813854": {
     "id": "a6bac658-159d-40ca-8e34-3caa37813854",
     "prev": "24d4027c-ff3b-424a-900a-efe4832e147b",
     "regions": {
      "a4a7c7d7-a60d-4f9e-ad88-d77bc79ad6fd": {
       "attrs": {
        "height": 0.8,
        "width": 0.8,
        "x": 0.1,
        "y": 0.1
       },
       "content": {
        "cell": "bb3e7973-59eb-4f6c-94bf-bc3fe7957f1d",
        "part": "whole"
       },
       "id": "a4a7c7d7-a60d-4f9e-ad88-d77bc79ad6fd"
      }
     }
    },
    "c253b7a5-77a7-4cfd-beb7-21996c75e468": {
     "id": "c253b7a5-77a7-4cfd-beb7-21996c75e468",
     "prev": "ed9ca79c-c4f9-4c15-a118-9b572a3434d0",
     "regions": {
      "5f56b006-07b2-4f47-a8f3-9c06a8a58eb1": {
       "attrs": {
        "height": 0.8,
        "width": 0.8,
        "x": 0.1,
        "y": 0.1
       },
       "content": {
        "cell": "39c329ab-7420-4ce7-83b6-4c438a539c3a",
        "part": "whole"
       },
       "id": "5f56b006-07b2-4f47-a8f3-9c06a8a58eb1"
      }
     }
    },
    "c7426300-74b8-4159-b7a7-c9be4d32be93": {
     "id": "c7426300-74b8-4159-b7a7-c9be4d32be93",
     "prev": "260e9dfe-72d2-481f-b1c9-b04940f3a5e8",
     "regions": {
      "4b663d77-fb3c-453d-8f90-488f0c5017dd": {
       "attrs": {
        "height": 0.8,
        "width": 0.8,
        "x": 0.1,
        "y": 0.1
       },
       "content": {
        "cell": "fc6206c6-2ad5-4498-b0c4-e694356559fe",
        "part": "whole"
       },
       "id": "4b663d77-fb3c-453d-8f90-488f0c5017dd"
      }
     }
    },
    "db22df38-2e96-4d51-8e5c-7c7c6cb4f50e": {
     "id": "db22df38-2e96-4d51-8e5c-7c7c6cb4f50e",
     "prev": "a6bac658-159d-40ca-8e34-3caa37813854",
     "regions": {
      "393caff5-80eb-41ce-8c36-69c632f3fc28": {
       "attrs": {
        "height": 0.8,
        "width": 0.8,
        "x": 0.1,
        "y": 0.1
       },
       "content": {
        "cell": "36f531b6-3e4c-4fed-9019-078dd2b7065c",
        "part": "whole"
       },
       "id": "393caff5-80eb-41ce-8c36-69c632f3fc28"
      }
     }
    },
    "ed9ca79c-c4f9-4c15-a118-9b572a3434d0": {
     "id": "ed9ca79c-c4f9-4c15-a118-9b572a3434d0",
     "prev": "c7426300-74b8-4159-b7a7-c9be4d32be93",
     "regions": {
      "65b30cd5-1421-4cf5-8f42-491380d0d026": {
       "attrs": {
        "height": 0.8,
        "width": 0.8,
        "x": 0.1,
        "y": 0.1
       },
       "content": {
        "cell": "58129968-89b1-42df-b743-62299092999f",
        "part": "whole"
       },
       "id": "65b30cd5-1421-4cf5-8f42-491380d0d026"
      }
     }
    }
   },
   "themes": {}
  }
 },
 "nbformat": 4,
 "nbformat_minor": 1
}

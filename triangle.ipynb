{
 "cells": [
  {
   "cell_type": "code",
   "execution_count": 9,
   "metadata": {
    "collapsed": true
   },
   "outputs": [],
   "source": [
    "import numpy as np\n",
    "import matplotlib.pyplot as pyplot\n",
    "import matplotlib.lines as mlines\n",
    "from math import sqrt, cos, sin, asin, pi\n",
    "import pylab"
   ]
  },
  {
   "cell_type": "code",
   "execution_count": 83,
   "metadata": {
    "collapsed": false
   },
   "outputs": [
    {
     "name": "stdout",
     "output_type": "stream",
     "text": [
      "Введите задержку (s): 0.000341\n",
      "Расстояние задержки между p1 и p0: 0.50809 m\n"
     ]
    }
   ],
   "source": [
    "margin = 0.5\n",
    "n = 10\n",
    "tick_size = 0.5\n",
    "\n",
    "c = 1490 #Скорость звука при температуре 22 градуса\n",
    "try:\n",
    "    deltat10 = float(input('Введите задержку (s): '))\n",
    "    deltal10 = deltat10*c\n",
    "    print('Расстояние задержки между p1 и p0: {} m'.format(deltal10))\n",
    "except ValueError:\n",
    "    print('Вы не ввели данные для рассчётов')"
   ]
  },
  {
   "cell_type": "code",
   "execution_count": 100,
   "metadata": {
    "collapsed": false
   },
   "outputs": [],
   "source": [
    "# Определяем углы треугольника\n",
    "left = np.r_[0, 0]\n",
    "right = np.r_[0.96, 0]\n",
    "top = np.r_[0.48, 3**0.48 / 2]\n",
    "triangle = np.c_[left, right, top, left]"
   ]
  },
  {
   "cell_type": "code",
   "execution_count": 101,
   "metadata": {
    "collapsed": false
   },
   "outputs": [
    {
     "name": "stdout",
     "output_type": "stream",
     "text": [
      "30.32438813833542\n",
      "[0.4481988571493405, 0.5118011428506595] [-1.4397471558458064, 2.5597471558458063]\n"
     ]
    }
   ],
   "source": [
    "#Определяем фронт\n",
    "x1, y1 = [0, 0],[0, sqrt(0.96**2-0.48**2)], #Параллель ребру р1 и р2\n",
    "x2, y2 = [0.48, 0],[sqrt(0.96**2-0.48**2), sqrt(0.96**2-0.48**2)] #Перпендикуляр ребру р1 и р2\n",
    "alfa_radian = sin(deltal10/0.96)\n",
    "#print(deltal10/0.96)\n",
    "alfa_gradus = asin(alfa_radian)\n",
    "#print(alfa_gradus)\n",
    "alfa_gradus=alfa_gradus/pi*180\n",
    "print(alfa_gradus)\n",
    "#x3, y3 = [0.48, 0.48-deltal10],[sqrt(0.96**2-0.48**2), sqrt(0.96**2-0.48**2)] # \n",
    "polarX=2*cos(1.05+alfa_radian)\n",
    "polarY=2*sin(1.05+alfa_radian)\n",
    "x4, y4 = [0.48-polarX, 0.48+polarX],[0.56-polarY,0.56+polarY]\n",
    "\n",
    "print(x4,y4)"
   ]
  },
  {
   "cell_type": "code",
   "execution_count": 102,
   "metadata": {
    "collapsed": false
   },
   "outputs": [],
   "source": [
    "#Наносим насечки на треугольник\n",
    "def plot_ticks(start, stop, tick, n):\n",
    "    r = np.linspace(0, 1, n+1)\n",
    "    x = start[0] * (1 - r) + stop[0] * r\n",
    "    x = np.vstack((x, x + tick[0]))\n",
    "    y = start[1] * (1 - r) + stop[1] * r\n",
    "    y = np.vstack((y, y + tick[1]))\n",
    "    pyplot.plot(x, y, 'k', lw=1)"
   ]
  },
  {
   "cell_type": "code",
   "execution_count": 103,
   "metadata": {
    "collapsed": false
   },
   "outputs": [],
   "source": [
    "# Определяем вектора насечек\n",
    "bottom_tick = tick_size * (right - top) / n\n",
    "right_tick = tick_size * (top - left) / n\n",
    "left_tick = tick_size * (left - right) / n\n",
    "\n",
    "# Окружность вокруг пирамидки\n",
    "#circle = pylab.Circle((0.48, 0.56), radius=0.5, fill=False, color=\"r\")"
   ]
  },
  {
   "cell_type": "code",
   "execution_count": 104,
   "metadata": {
    "collapsed": false,
    "scrolled": true
   },
   "outputs": [],
   "source": [
    "#Наносим насечки на график\n",
    "plot_ticks(left, right, bottom_tick, n)\n",
    "plot_ticks(right, top, right_tick, n)\n",
    "plot_ticks(left, top, left_tick, n)"
   ]
  },
  {
   "cell_type": "code",
   "execution_count": 105,
   "metadata": {
    "collapsed": false
   },
   "outputs": [
    {
     "name": "stdout",
     "output_type": "stream",
     "text": [
      "Фронт отклонён от грани р0-р1 на 30.32 градусов\n"
     ]
    },
    {
     "data": {
      "image/png": "[encoded data removed]",
      "text/plain": [
       "<matplotlib.figure.Figure at 0x9750748>"
      ]
     },
     "metadata": {},
     "output_type": "display_data"
    }
   ],
   "source": [
    "print('Фронт отклонён от грани р0-р1 на {:.2f} градусов'.format(alfa_gradus))\n",
    "\n",
    "pyplot.plot(\n",
    "    #x1, y1,\n",
    "    #x2, y2,\n",
    "    #x3, y3,\n",
    "    x4, y4,\n",
    "    marker='o')\n",
    "#pyplot.plot(circle,'k', lw=2)\n",
    "pyplot.plot(triangle[0], triangle[1], 'k', lw=2) \n",
    "pyplot.axis([left[0]-margin, right[0]+margin, left[1]-margin, top[1]+margin])\n",
    "pyplot.gca().set_aspect('equal', adjustable='box')\n",
    "pylab.text (-0.05, 0.05, \"p0\", horizontalalignment=\"center\")\n",
    "pylab.text (0.48, 0.9, \"p1\", horizontalalignment=\"center\")\n",
    "pylab.text (1, 0.05, \"p2\", horizontalalignment=\"center\")\n",
    "pyplot.show()   "
   ]
  },
  {
   "cell_type": "code",
   "execution_count": null,
   "metadata": {
    "collapsed": true
   },
   "outputs": [],
   "source": []
  },
  {
   "cell_type": "code",
   "execution_count": null,
   "metadata": {
    "collapsed": true
   },
   "outputs": [],
   "source": []
  }
 ],
 "metadata": {
  "anaconda-cloud": {},
  "kernelspec": {
   "display_name": "Python [default]",
   "language": "python",
   "name": "python3"
  },
  "language_info": {
   "codemirror_mode": {
    "name": "ipython",
    "version": 3
   },
   "file_extension": ".py",
   "mimetype": "text/x-python",
   "name": "python",
   "nbconvert_exporter": "python",
   "pygments_lexer": "ipython3",
   "version": "3.5.2"
  }
 },
 "nbformat": 4,
 "nbformat_minor": 1
}
